{
 "cells": [
  {
   "cell_type": "markdown",
   "id": "28ae7c60-adb1-4f78-b745-03d8bbd91567",
   "metadata": {},
   "source": [
    "#Q1\n",
    "\"\"\"In Python, the built-in open() function is used to open a file. The open() function takes two arguments: the file path (as a string) and\n",
    "the mode in which the file should be opened.\n",
    "\n",
    "There are several modes in which a file can be opened in Python:\n",
    "\n",
    "'r': Read mode. The file is opened for reading (default mode).\n",
    "'w': Write mode. The file is opened for writing. If the file already exists, its contents will be truncated. If the file does not exist, a new file will be created.\n",
    "'a': Append mode. The file is opened for writing, but data is appended to the end of the file rather than overwriting its contents. If the file does not exist, a new file will be created.\n",
    "'x': Exclusive mode. The file is opened for writing, but only if it does not already exist. If the file exists, a FileExistsError will be raised.\n",
    "'b': Binary mode. The file is opened in binary mode.\n",
    "'t': Text mode. The file is opened in text mode (default mode).\n",
    "'+': Update mode. The file is opened for both reading and writing.\n",
    "You can use these modes in combination to specify the desired file access. For example,\n",
    "'rb' would open a file in binary read mode, while 'w+' would open a file in write mode with the ability to read its contents as well.\"\"\""
   ]
  },
  {
   "cell_type": "code",
   "execution_count": null,
   "id": "b6a87521-cd5d-4b5e-acac-781123809516",
   "metadata": {},
   "outputs": [],
   "source": [
    "#Q2\n",
    "\"\"\"In Python, the close() function is used to close an open file. It is important to close a file because it frees up system resources \n",
    "that were being used to keep the file open.\n",
    "When a file is opened in Python, it is associated with a file object. This file object is used to read or write data to the file. \n",
    "While the file object is open, the file is locked and no other programs can access it. If the file object is not closed, \n",
    "the file will remain locked and other programs will not be able to access it until the program that has the file open exits\n",
    "or the file object is closed.\n",
    "\n",
    "If you don't close a file, you may run into a few issues, such as:\n",
    "1. Resource leak\n",
    "2. Data Loss\n",
    "3. File Corruption"
   ]
  },
  {
   "cell_type": "code",
   "execution_count": 1,
   "id": "8ae7d66d-0bd3-48c4-9737-cbe1a202c106",
   "metadata": {},
   "outputs": [
    {
     "name": "stdout",
     "output_type": "stream",
     "text": [
      "<built-in method read of _io.TextIOWrapper object at 0x7f90c422c6c0>\n"
     ]
    }
   ],
   "source": [
    "#Q3\n",
    "file = open(\"data_scientist.txt\", \"w\")\n",
    "file.write(\"i want to become a data scientist\")\n",
    "file.close()\n",
    "file = open(\"data_scientist.txt\",\"r\")\n",
    "content = file.read\n",
    "file.close()\n",
    "print(content)"
   ]
  },
  {
   "cell_type": "code",
   "execution_count": null,
   "id": "3d6ee7c1-98e1-4a45-a436-5ee405d88d44",
   "metadata": {},
   "outputs": [],
   "source": [
    "#Q4\n",
    "\"\"\"n Python, you can use the following methods to read data from a file:\n",
    "\n",
    "1. read(size) method:\n",
    "This method reads a given number of characters from the file. If no argument is provided, it reads the entire file. Here's an example:\"\"\"\n",
    "\n",
    "# Open file in read mode\n",
    "file = open(\"example.txt\", \"r\")\n",
    "\n",
    "# Read the first 10 characters from the file\n",
    "content = file.read(10)\n",
    "\n",
    "# Close the file\n",
    "file.close()\n",
    "\n",
    "# Print the content that was read\n",
    "print(content)\n",
    "\n",
    "\n",
    "\"\"\"2. readline() method:\n",
    "This method reads a single line from the file. It returns an empty string if it reaches the end of the file. Here's an example:\"\"\"\n",
    "\n",
    "\n",
    "# Open file in read mode\n",
    "file = open(\"example.txt\", \"r\")\n",
    "\n",
    "# Read the first line from the file\n",
    "line = file.readline()\n",
    "\n",
    "# Close the file\n",
    "file.close()\n",
    "\n",
    "# Print the line that was read\n",
    "print(line)\n",
    "\n",
    "\n",
    "\"\"\"3. readlines() method:\n",
    "This method reads all the lines in the file and returns them as a list. Here's an example:\"\"\"\n",
    "\n",
    "# Open file in read mode\n",
    "file = open(\"example.txt\", \"r\")\n",
    "\n",
    "# Read all the lines from the file\n",
    "lines = file.readlines()\n",
    "\n",
    "# Close the file\n",
    "file.close()\n",
    "\n",
    "# Print the lines that were read\n",
    "for line in lines:\n",
    "    print(line)\n"
   ]
  },
  {
   "cell_type": "code",
   "execution_count": null,
   "id": "bcc792e0-6750-46f8-afd3-34426c2ac84b",
   "metadata": {},
   "outputs": [],
   "source": [
    "#Q5\n",
    "'''When we use the with statement with the open() function to open a file, the file is automatically closed when the block \n",
    "inside the with statement is exited. This is because the file object returned by the open() function is a context manager and it defines\n",
    "the __enter__() and __exit__() methods. The __enter__() method returns the file object and the __exit__() method closes the file.'''\n",
    "#here's an example:\n",
    "with open('example.txt', 'r') as file:\n",
    "    content = file.read()\n",
    "with open('example.txt', 'r') as file:\n",
    "    content = file.read()\n",
    "    # Do something with the content here\n",
    "# File is automatically closed here\n",
    "\n"
   ]
  },
  {
   "cell_type": "code",
   "execution_count": null,
   "id": "18ece880-d836-4580-b67b-24dc364a1ec7",
   "metadata": {},
   "outputs": [],
   "source": [
    "#Q6\n",
    "\"\"\"The write() function takes a string argument and writes it to the file. It returns the number of characters written to the file. \"\"\"\n",
    "\n",
    "with open('example.txt', 'w') as file:\n",
    "    file.write('Hello, World!')\n",
    "\n",
    "# The writelines() function takes a list of strings as an argument and writes each string to the file. It does not add any separators or\n",
    "# line breaks between the strings. If the file does not exist, it is created. If the file exists, the data is overwritten.\n",
    "\n",
    "with open('example.txt', 'w') as file:\n",
    "    lines = ['Line 1\\n', 'Line 2\\n', 'Line 3\\n']\n",
    "    file.writelines(lines)\n"
   ]
  }
 ],
 "metadata": {
  "kernelspec": {
   "display_name": "Python 3 (ipykernel)",
   "language": "python",
   "name": "python3"
  },
  "language_info": {
   "codemirror_mode": {
    "name": "ipython",
    "version": 3
   },
   "file_extension": ".py",
   "mimetype": "text/x-python",
   "name": "python",
   "nbconvert_exporter": "python",
   "pygments_lexer": "ipython3",
   "version": "3.10.8"
  }
 },
 "nbformat": 4,
 "nbformat_minor": 5
}

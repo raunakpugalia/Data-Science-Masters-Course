{
 "cells": [
  {
   "cell_type": "code",
   "execution_count": null,
   "id": "8fc883bb-0f9c-4e57-87ad-430172470993",
   "metadata": {},
   "outputs": [],
   "source": [
    "\"\"\"\n",
    "Answer 1: \n",
    "Abstraction is an important concept in OOPs programming that allows to focus on essential features of an object without including \n",
    "the background details or backend. For example: When you drive a car, you don't need to know how the engine works, how fuel combustion takes\n",
    "place. all we need to know about the accelerator, brake, clutch, and gear box, in other words you are using the abstraction of car without \n",
    "worrying about its implementations. \"\"\"\n"
   ]
  },
  {
   "cell_type": "code",
   "execution_count": null,
   "id": "2cf2b44f-aa56-420c-a1ee-c5bc041d8172",
   "metadata": {},
   "outputs": [],
   "source": [
    "\"\"\"\n",
    "Answer 2:\n",
    "Abstraction and encapsulation are two important concepts in object-oriented programming (OOP), often used together to build complex \n",
    "software systems. Although they are closely related, they have some fundamental differences.\n",
    "Abstraction refers to the act of representing essential features without including the background details. In other words, abstraction is \n",
    "all about hiding the complexities of an object and only exposing the necessary features.\n",
    "Encapsulation, on the other hand, is a technique used to protect the data inside an object from being modified by external code.\n",
    "It's a mechanism of bundling the data and methods that operate on the data, keeping them safe from external interference.\n",
    "FOR EXAMPLLLEEEE!!!!\n",
    "The dashboard of a car is an example of abstraction. The dashboard is a simple interface that displays only the necessary information to\n",
    "the driver, such as the speed, fuel level, and engine temperature. The driver doesn't need to know how the engine works, what is the fuel\n",
    "combustion process, or how the transmission system operates. This is abstraction.\n",
    "Now, consider the engine of the car. The engine is a complex system that contains many components and parts, such as cylinders, pistons, \n",
    "crankshafts, and camshafts. All these components and parts work together to provide the power required to move the car. The engine is a perfect\n",
    "example of encapsulation because all its components and parts are hidden from external code. The only way to interact with the engine is by\n",
    "using a simple interface such as the ignition key, accelerator, and brake pedals.\"\"\""
   ]
  },
  {
   "cell_type": "code",
   "execution_count": null,
   "id": "257a5657-633c-4ec8-a5e4-a74547b68128",
   "metadata": {},
   "outputs": [],
   "source": [
    "\"\"\"\n",
    "Answer 3:\n",
    "The abc module in Python stands for Abstract Base Classes. It provides a way to define abstract classes in Python. Abstract classes are classes\n",
    "that are meant to be inherited but not meant to be instantiated.\n",
    "The abc module is used to define abstract classes and abstract methods, and it ensures that derived classes implement all the abstract methods. \n",
    "This ensures that the derived classes conform to the expected interface of the base class.\"\"\""
   ]
  },
  {
   "cell_type": "code",
   "execution_count": null,
   "id": "89cefca7-1f35-49dc-a2f3-fe552c2b21d0",
   "metadata": {},
   "outputs": [],
   "source": [
    "\"\"\"\n",
    "Answer 4:\n",
    "In Python, we can achieve data abstraction by using classes and objects. Data abstraction is the process of hiding the implementation details of\n",
    "an object from the user and only showing the necessary information to the user.\n",
    "To achieve data abstraction in Python, we can create a class that defines the attributes and methods of an object, and then create objects of\n",
    "that class. The user can then access only the necessary attributes and methods of the object without knowing the implementation details.\"\"\""
   ]
  },
  {
   "cell_type": "code",
   "execution_count": null,
   "id": "925160ed-f51c-4e23-9fee-b1885fa2b5bd",
   "metadata": {},
   "outputs": [],
   "source": [
    "\"\"\"\n",
    "Answer 5:\n",
    "An abstract class is a class that cannot be instantiated, meaning you cannot create an object of the class. However, it can be used as a\n",
    "base class for other classes. This means that you can create a subclass of the abstract class and then create an instance of the subclass.\n",
    "The instance will have all the properties and methods of its parent abstract class.\"\"\""
   ]
  }
 ],
 "metadata": {
  "kernelspec": {
   "display_name": "Python 3 (ipykernel)",
   "language": "python",
   "name": "python3"
  },
  "language_info": {
   "codemirror_mode": {
    "name": "ipython",
    "version": 3
   },
   "file_extension": ".py",
   "mimetype": "text/x-python",
   "name": "python",
   "nbconvert_exporter": "python",
   "pygments_lexer": "ipython3",
   "version": "3.10.8"
  }
 },
 "nbformat": 4,
 "nbformat_minor": 5
}

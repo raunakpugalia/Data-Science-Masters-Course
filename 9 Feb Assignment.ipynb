{
 "cells": [
  {
   "cell_type": "code",
   "execution_count": null,
   "id": "a83e181f-f368-4270-8050-8dcdcfdb442b",
   "metadata": {},
   "outputs": [],
   "source": [
    "#Q1 \n",
    "class vehicle:\n",
    "    def __init__(self, name_of_vehicle, max_speed, average_of_vehicle):\n",
    "        self.name_of_vehicle = name_of_vehicle\n",
    "        self.max_speed = max_speed\n",
    "        self.average_of_vehicle = average_of_vehicle"
   ]
  },
  {
   "cell_type": "code",
   "execution_count": null,
   "id": "2a0093d8-4e68-4ae9-9615-44de4df170b5",
   "metadata": {},
   "outputs": [],
   "source": [
    "#Q2\n",
    "class car(vehicle):\n",
    "    def seating_capacity(self, capacity):\n",
    "        self.capacity = capacity\n",
    "        return f\"{self.name_of_vehicle} has a seating capacity of {self.capacity}\"\n",
    "    \n",
    "vehicle1 = car(\"bmw\", 500, 30)\n",
    "print(vehicle1.seating_capacity(7))"
   ]
  },
  {
   "cell_type": "code",
   "execution_count": null,
   "id": "b65571f0-9545-4baf-9ee8-38dac1b20202",
   "metadata": {},
   "outputs": [],
   "source": [
    "#Q3\n",
    "#Multiple inheritance is a feature in object-oriented programming that allows a class to inherit from more than one base class.\n",
    "class Animal:\n",
    "    def __init__(self, name):\n",
    "        self.name = name\n",
    "\n",
    "    def speak(self):\n",
    "        pass\n",
    "\n",
    "class Dog(Animal):\n",
    "    def speak(self):\n",
    "        return \"Woof!\"\n",
    "\n",
    "class Cat(Animal):\n",
    "    def speak(self):\n",
    "        return \"Meow!\"\n",
    "\n",
    "class Pet(Dog, Cat):\n",
    "    def __init__(self, name):\n",
    "        super().__init__(name)\n",
    "\n",
    "pet = Pet(\"Max\")\n",
    "print(pet.speak())\n"
   ]
  },
  {
   "cell_type": "code",
   "execution_count": 4,
   "id": "fb614358-6c86-45ee-b560-be380421587a",
   "metadata": {},
   "outputs": [],
   "source": [
    "#Q4\n",
    "class Person:\n",
    "    def __init__(self, name):\n",
    "        self.__name = name\n",
    "    \n",
    "    @property\n",
    "    def name(self):\n",
    "        return self.__name\n",
    "    \n",
    "    @name.setter\n",
    "    def name_setter(self, value):\n",
    "        self.__name = value\n",
    "        \n",
    "    \n",
    "obj = Person(\"rau\")"
   ]
  },
  {
   "cell_type": "code",
   "execution_count": 10,
   "id": "220cd368-9955-4b40-88a7-6e7775bba113",
   "metadata": {},
   "outputs": [
    {
     "name": "stdout",
     "output_type": "stream",
     "text": [
      "raunak\n"
     ]
    }
   ],
   "source": [
    "obj.name_setter = \"raunak\"\n",
    "print(obj.name)"
   ]
  },
  {
   "cell_type": "code",
   "execution_count": null,
   "id": "e72068bc-dedb-45ee-9504-5f8dff0fbc67",
   "metadata": {},
   "outputs": [],
   "source": [
    "#Q5\n",
    "\"\"\"Method overriding is a feature in object-oriented programming that allows a subclass to provide a different implementation of \n",
    "a method that is already defined in its superclass. When a method in a subclass has the same name and signature as a method in its superclass,\n",
    "the method in the subclass overrides the method in the superclass.\"\"\"\n",
    "class Animal:\n",
    "    def sound(self):\n",
    "        print(\"Animal makes a sound\")\n",
    "\n",
    "class Dog(Animal):\n",
    "    def sound(self):\n",
    "        print(\"Dog barks\")\n",
    "\n",
    "class Cat(Animal):\n",
    "    def sound(self):\n",
    "        print(\"Cat meows\")\n",
    "\n",
    "animal = Animal()\n",
    "animal.sound()  # Output: Animal makes a sound\n",
    "\n",
    "dog = Dog()\n",
    "dog.sound()  # Output: Dog barks\n",
    "\n",
    "cat = Cat()\n",
    "cat.sound()  # Output: Cat meows\n"
   ]
  }
 ],
 "metadata": {
  "kernelspec": {
   "display_name": "Python 3 (ipykernel)",
   "language": "python",
   "name": "python3"
  },
  "language_info": {
   "codemirror_mode": {
    "name": "ipython",
    "version": 3
   },
   "file_extension": ".py",
   "mimetype": "text/x-python",
   "name": "python",
   "nbconvert_exporter": "python",
   "pygments_lexer": "ipython3",
   "version": "3.10.8"
  }
 },
 "nbformat": 4,
 "nbformat_minor": 5
}

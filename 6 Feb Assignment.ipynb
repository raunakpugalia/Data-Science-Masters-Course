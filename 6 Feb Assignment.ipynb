{
 "cells": [
  {
   "cell_type": "code",
   "execution_count": null,
   "id": "19e4d231-9f2b-4bd2-93d2-c6862e8c8de8",
   "metadata": {},
   "outputs": [],
   "source": [
    "#Q1 \n",
    "def product_of_numbers(lst):\n",
    "    flat_list = []\n",
    "    for item in lst:\n",
    "        if isinstance(item, (list, tuple, set)):\n",
    "            flat_list.extend([i for i in item if isinstance(i, (int, float))])\n",
    "        elif isinstance(item, dict):\n",
    "            flat_list.extend([val for val in item.values() if isinstance(val, (int, float))])\n",
    "            flat_list.extend([key for key in item.keys() if isinstance(key, (int, float))])\n",
    "        elif isinstance(item, (int, float)):\n",
    "            flat_list.append(item)\n",
    "    \n",
    "    if not flat_list:\n",
    "        return None\n",
    "\n",
    "    product = 1\n",
    "    for num in flat_list:\n",
    "        product *= num\n",
    "    return product\n"
   ]
  },
  {
   "cell_type": "code",
   "execution_count": 4,
   "id": "5414b2fc-c353-41ff-8bc3-f474ae3e3b5f",
   "metadata": {},
   "outputs": [],
   "source": [
    "#Q2\n",
    "def encrypt(message):\n",
    "        encrypted_message = ' '\n",
    "        for char in message.lower():\n",
    "            if char.isalpha():\n",
    "                encrypted_char = chr(ord('a') +ord('z') -ord(char))\n",
    "                encrypted_message += encrypted_char\n",
    "            elif char.isspace():\n",
    "                encrypted_message += '$'\n",
    "            else:\n",
    "                encrypted_message += char\n",
    "        return encrypted_message.lower()"
   ]
  },
  {
   "cell_type": "code",
   "execution_count": 5,
   "id": "708e165a-d1a9-4e6b-8145-62b03721a502",
   "metadata": {},
   "outputs": [
    {
     "name": "stdout",
     "output_type": "stream",
     "text": [
      " r$dzng$gl$yvxlnv$z$wzgz$hxrvmgrhg\n"
     ]
    }
   ],
   "source": [
    "input_sentence = \"i wamt to become a data scientist\"\n",
    "encrypted_1 = encrypt(input_sentence)\n",
    "print(encrypted_1)"
   ]
  },
  {
   "cell_type": "code",
   "execution_count": null,
   "id": "bf1adf18-2370-403f-a39b-e7ce6a657a49",
   "metadata": {},
   "outputs": [],
   "source": []
  }
 ],
 "metadata": {
  "kernelspec": {
   "display_name": "Python 3 (ipykernel)",
   "language": "python",
   "name": "python3"
  },
  "language_info": {
   "codemirror_mode": {
    "name": "ipython",
    "version": 3
   },
   "file_extension": ".py",
   "mimetype": "text/x-python",
   "name": "python",
   "nbconvert_exporter": "python",
   "pygments_lexer": "ipython3",
   "version": "3.10.8"
  }
 },
 "nbformat": 4,
 "nbformat_minor": 5
}

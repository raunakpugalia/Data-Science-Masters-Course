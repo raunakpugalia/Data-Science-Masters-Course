{
 "cells": [
  {
   "cell_type": "code",
   "execution_count": 24,
   "id": "7f5d2691-e0af-4e0f-9bae-e6fe90e4eb2b",
   "metadata": {},
   "outputs": [
    {
     "name": "stdout",
     "output_type": "stream",
     "text": [
      "[1, 3, 5, 7, 9, 11, 13, 15, 17, 19, 21, 23, 25]\n"
     ]
    }
   ],
   "source": [
    "#Q1 The keyword \"def\" is used to create a function in Python\n",
    "def odd():\n",
    "    list_odd = []\n",
    "    for i in range (1, 26):\n",
    "        if i % 2 != 0 :\n",
    "         list_odd.append(i)\n",
    "    return list_odd\n",
    "\n",
    "print(odd())"
   ]
  },
  {
   "cell_type": "code",
   "execution_count": 28,
   "id": "f015a877-9a21-4189-acc8-20eaf6e406d8",
   "metadata": {},
   "outputs": [
    {
     "name": "stdout",
     "output_type": "stream",
     "text": [
      "non keyworded arguments (1, 2, 3)\n",
      "keyworded arguements {'name': 'raunak', 'course': 'pw'}\n"
     ]
    }
   ],
   "source": [
    "# Q2 in python *args is used to send a non-keyworded variable length to arguement in python function\n",
    "# **kwargs is used to send keyworded variable length to arguement function it is basically key value pairs as dictionary\n",
    "\n",
    "\"\"\"for example\"\"\"\n",
    "def testpw(*args, **kwargs):\n",
    "    print(\"non keyworded arguments\", args)\n",
    "    print(\"keyworded arguements\", kwargs)\n",
    "\n",
    "testpw(1,2,3, name = \"raunak\", course = \"pw\")"
   ]
  },
  {
   "cell_type": "code",
   "execution_count": 30,
   "id": "b873cf14-0e56-4b0d-a860-09904f8823f0",
   "metadata": {},
   "outputs": [
    {
     "name": "stdout",
     "output_type": "stream",
     "text": [
      "2\n",
      "4\n",
      "6\n",
      "8\n",
      "10\n"
     ]
    }
   ],
   "source": [
    "#Q3 in python an iterator is an object that implements \"iter' and 'next' methods an iterator allows you to traverse\n",
    "\n",
    "list = [2,4,6,8,10,12,14,16,18,20]\n",
    "iter = iter(list)\n",
    "\n",
    "for i in range (5):\n",
    " print (next(iter))"
   ]
  },
  {
   "cell_type": "code",
   "execution_count": 32,
   "id": "2c132fd0-35e1-4918-81f7-7e46fd99718d",
   "metadata": {},
   "outputs": [
    {
     "name": "stdout",
     "output_type": "stream",
     "text": [
      "0\n",
      "1\n",
      "4\n",
      "9\n",
      "16\n"
     ]
    }
   ],
   "source": [
    "#Q4 Generator is a special kind of function which used to generates the stream of values unlike normal function which gives one value \n",
    "# yield keyword allows generator function to generates the value one byo one, making it memory efficient.\n",
    "\n",
    "def squaring_master(mamu):\n",
    "    for i in range(mamu):\n",
    "        yield i**2\n",
    "\n",
    "for i in squaring_master(5):\n",
    "    print(i)"
   ]
  },
  {
   "cell_type": "code",
   "execution_count": null,
   "id": "ed9d0600-79cf-46b9-a37e-268ba06aa149",
   "metadata": {},
   "outputs": [],
   "source": [
    "#Q5 \n",
    "def prime_number_generator(n):\n",
    "    primes1=[]\n",
    "    for num in n (2, n+1):\n",
    "        for i in range(2,num):\n",
    "            if num % i == 0:\n",
    "                break\n",
    "            else:\n",
    "                primes1.append(num)\n",
    "    yield primes1\n",
    "primes = prime_number_generator(1000)\n",
    "for i in range(1000):\n",
    " print(next(primes))        \n",
    "    "
   ]
  },
  {
   "cell_type": "code",
   "execution_count": 9,
   "id": "257081f5-2081-4c17-bec2-5d8e9f6f5132",
   "metadata": {},
   "outputs": [
    {
     "name": "stdout",
     "output_type": "stream",
     "text": [
      "0\n",
      "1\n",
      "1\n",
      "2\n",
      "3\n",
      "5\n",
      "8\n",
      "13\n",
      "21\n",
      "34\n"
     ]
    }
   ],
   "source": [
    "#Q6\n",
    "def fibonacci_numbers():\n",
    "    a, b = 0, 1\n",
    "    while True:\n",
    "        yield a\n",
    "        a, b = b, a + b\n",
    "\n",
    "fib = fibonacci_numbers()\n",
    "\n",
    "# Print the first 10 Fibonacci numbers\n",
    "for i in range(10):\n",
    "    print(next(fib))\n"
   ]
  },
  {
   "cell_type": "code",
   "execution_count": 11,
   "id": "a00dc01d-1858-4aa3-8094-ff8cfe301a40",
   "metadata": {},
   "outputs": [
    {
     "name": "stdout",
     "output_type": "stream",
     "text": [
      "['p', 'w', 's', 'k', 'i', 'l', 'l', 's']\n"
     ]
    }
   ],
   "source": [
    "#Q7\n",
    "string = 'pwskills'\n",
    "result = list(iter(string))\n",
    "\n",
    "print(result)\n"
   ]
  },
  {
   "cell_type": "code",
   "execution_count": 12,
   "id": "da104da9-6019-48ff-9e48-06dca6fb2de1",
   "metadata": {},
   "outputs": [
    {
     "data": {
      "text/plain": [
       "[1,\n",
       " 3,\n",
       " 5,\n",
       " 7,\n",
       " 9,\n",
       " 11,\n",
       " 13,\n",
       " 15,\n",
       " 17,\n",
       " 19,\n",
       " 21,\n",
       " 23,\n",
       " 25,\n",
       " 27,\n",
       " 29,\n",
       " 31,\n",
       " 33,\n",
       " 35,\n",
       " 37,\n",
       " 39,\n",
       " 41,\n",
       " 43,\n",
       " 45,\n",
       " 47,\n",
       " 49,\n",
       " 51,\n",
       " 53,\n",
       " 55,\n",
       " 57,\n",
       " 59,\n",
       " 61,\n",
       " 63,\n",
       " 65,\n",
       " 67,\n",
       " 69,\n",
       " 71,\n",
       " 73,\n",
       " 75,\n",
       " 77,\n",
       " 79,\n",
       " 81,\n",
       " 83,\n",
       " 85,\n",
       " 87,\n",
       " 89,\n",
       " 91,\n",
       " 93,\n",
       " 95,\n",
       " 97,\n",
       " 99]"
      ]
     },
     "execution_count": 12,
     "metadata": {},
     "output_type": "execute_result"
    }
   ],
   "source": [
    "#Q9\n",
    "numbers = range(1,101)\n",
    "[num for num in numbers if num % 2 != 0]"
   ]
  },
  {
   "cell_type": "code",
   "execution_count": null,
   "id": "7583c598-7f50-475e-bf31-aa043ae453c0",
   "metadata": {},
   "outputs": [],
   "source": []
  }
 ],
 "metadata": {
  "kernelspec": {
   "display_name": "Python 3 (ipykernel)",
   "language": "python",
   "name": "python3"
  },
  "language_info": {
   "codemirror_mode": {
    "name": "ipython",
    "version": 3
   },
   "file_extension": ".py",
   "mimetype": "text/x-python",
   "name": "python",
   "nbconvert_exporter": "python",
   "pygments_lexer": "ipython3",
   "version": "3.10.8"
  }
 },
 "nbformat": 4,
 "nbformat_minor": 5
}

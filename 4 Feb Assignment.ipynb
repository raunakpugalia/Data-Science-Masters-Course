{
 "cells": [
  {
   "cell_type": "code",
   "execution_count": 1,
   "id": "8f775103-2695-42f4-93b0-7ecb024e722a",
   "metadata": {},
   "outputs": [
    {
     "name": "stdout",
     "output_type": "stream",
     "text": [
      "[('Virat Kohli', 24936), ('Jack Kallis', 25534), ('Ricky Ponting', 27483), ('Sachin Tendulkar', 34357)]\n"
     ]
    }
   ],
   "source": [
    "#Q1\n",
    "players = [('Sachin Tendulkar', 34357), ('Ricky Ponting', 27483), ('Jack Kallis', 25534), ('Virat Kohli', 24936)]\n",
    "sorted_players = sorted(players, key = lambda x: x[1])\n",
    "print(sorted_players)"
   ]
  },
  {
   "cell_type": "code",
   "execution_count": 6,
   "id": "08496a30-e6f8-4a8d-be37-90bafd1a06fd",
   "metadata": {},
   "outputs": [
    {
     "name": "stdout",
     "output_type": "stream",
     "text": [
      "[1, 4, 9, 16, 25, 36, 49, 64, 81, 100]\n"
     ]
    }
   ],
   "source": [
    "#Q2 \n",
    "integers = [1, 2, 3, 4, 5, 6, 7, 8, 9, 10]\n",
    "squared = list(map(lambda integers : integers**2, integers))\n",
    "print(squared)\n"
   ]
  },
  {
   "cell_type": "code",
   "execution_count": 12,
   "id": "332426df-a7a4-404b-bb37-50254608552d",
   "metadata": {},
   "outputs": [
    {
     "name": "stdout",
     "output_type": "stream",
     "text": [
      "('1', '2', '3', '4', '5', '6', '7', '8', '9', '10')\n"
     ]
    }
   ],
   "source": [
    "#Q3\n",
    "convertable= [1, 2, 3, 4, 5, 6, 7, 8, 9, 10]\n",
    "converted = tuple(map(lambda x: str(x), convertable))\n",
    "print(converted)"
   ]
  },
  {
   "cell_type": "code",
   "execution_count": 14,
   "id": "0085463e-720a-4554-a6f8-65d4931d6599",
   "metadata": {},
   "outputs": [
    {
     "name": "stdout",
     "output_type": "stream",
     "text": [
      "15511210043330985984000000\n"
     ]
    }
   ],
   "source": [
    "#Q4\n",
    "from functools import reduce \n",
    "list= range(1,26)\n",
    "product = reduce(lambda x,y : x*y, list)\n",
    "print(product)"
   ]
  },
  {
   "cell_type": "code",
   "execution_count": null,
   "id": "50849e92-1de6-408e-bf43-6500b197b7a0",
   "metadata": {},
   "outputs": [],
   "source": [
    "#Q5\n",
    "list = [2, 3, 6, 9, 27, 60, 90, 120, 55, 46]\n",
    "divided = list(filter(lambda x : x % 2 == 0 or x % 3 == 0, list))\n",
    "print(divided)"
   ]
  },
  {
   "cell_type": "code",
   "execution_count": 4,
   "id": "ca3d43a0-c1fd-4fa7-bb49-9932b8b33640",
   "metadata": {},
   "outputs": [
    {
     "name": "stdout",
     "output_type": "stream",
     "text": [
      "['php', 'aba', 'radar', 'level']\n"
     ]
    }
   ],
   "source": [
    "#Q6 \n",
    "def is_palindrome(string):\n",
    "    return string == string[::-1]\n",
    "strings = ['python', 'php', 'aba', 'radar', 'level']\n",
    "palindromes = list(filter(lambda x: is_palindrome(x), strings))\n",
    "print(palindromes)"
   ]
  },
  {
   "cell_type": "code",
   "execution_count": null,
   "id": "6cffd563-c44e-4efb-bf51-4f5f26cabb81",
   "metadata": {},
   "outputs": [],
   "source": []
  }
 ],
 "metadata": {
  "kernelspec": {
   "display_name": "Python 3 (ipykernel)",
   "language": "python",
   "name": "python3"
  },
  "language_info": {
   "codemirror_mode": {
    "name": "ipython",
    "version": 3
   },
   "file_extension": ".py",
   "mimetype": "text/x-python",
   "name": "python",
   "nbconvert_exporter": "python",
   "pygments_lexer": "ipython3",
   "version": "3.10.8"
  }
 },
 "nbformat": 4,
 "nbformat_minor": 5
}

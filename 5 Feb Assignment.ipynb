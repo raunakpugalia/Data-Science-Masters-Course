{
 "cells": [
  {
   "cell_type": "markdown",
   "id": "7f6ae200-905f-4ec0-a789-643ad636492e",
   "metadata": {},
   "source": [
    "# Q1 \n",
    "a class is template or blueprint for creating objects, an object is an instance of class has its own methods and properties\n",
    "for example: survey form as a class and multiple entries in survey form as objects."
   ]
  },
  {
   "cell_type": "markdown",
   "id": "0a4f2bc8-e46f-4514-a021-c5eb6a224db8",
   "metadata": {},
   "source": [
    "# Q2\n",
    "In object-oriented programming (OOP), there are four basic pillars:\n",
    "1. Abstraction\n",
    "2. Encapsulation\n",
    "3. Inheritance\n",
    "4. Polymorphism"
   ]
  },
  {
   "cell_type": "code",
   "execution_count": null,
   "id": "00a76175-e9b8-4d6e-b0fd-c6f8905fde2d",
   "metadata": {},
   "outputs": [],
   "source": [
    "# Q3\n",
    "\"\"\"The __init__() function in Python is a special method that is automatically called when an object of a class is created. It is also known as a constructor and is used to initialize the attributes of an object.\n",
    "for example:\"\"\"\n",
    "class Person:\n",
    "    def __init__(self, name, age):\n",
    "        self.name = name\n",
    "        self.age = age\n",
    "\"\"\"Here, the __init__() method takes two arguments, name and age, and uses them to initialize the name and age attributes of the Person class. To create an object of the Person class, you would call the class as if it were a function, passing the required arguments\"\"\""
   ]
  },
  {
   "cell_type": "markdown",
   "id": "7dd67bef-dffa-4ba8-8ef0-9bd1888cfa9e",
   "metadata": {},
   "source": [
    "# Q4\n",
    "self is a special reference to the current instance of the class. It is used as the first argument in methods defined in a class and is used to access the attributes and methods of the current object."
   ]
  },
  {
   "cell_type": "code",
   "execution_count": null,
   "id": "83ec7c1f-eeee-4e3a-a147-bd31fa0c5b25",
   "metadata": {},
   "outputs": [],
   "source": [
    "#Q5\n",
    "\"\"\"Inheritance is a fundamental concept in object-oriented programming (OOP) that allows you to create a new class (a derived class) that\n",
    "is based on an existing class (a base class). The derived class inherits attributes and methods from the base class, \n",
    "which can be customized or extended as needed.\n",
    "There are several types of inheritance :\n",
    "1. Single Inheritance: In single inheritance, a derived class inherits from a single base class. For example:\"\"\"\n",
    "class Shape:\n",
    "    def __init__(self, sides):\n",
    "        self.sides = sides\n",
    "\n",
    "class Triangle(Shape):\n",
    "    def __init__(self, sides, height):\n",
    "        super().__init__(sides)\n",
    "        self.height = height\n",
    "\"\"\"2. Multiple Inheritance: In multiple inheritance, a derived class inherits from multiple base classes. For example:\"\"\"\n",
    "class Engine:\n",
    "    def __init__(self, fuel_capacity):\n",
    "        self.fuel_capacity = fuel_capacity\n",
    "\n",
    "class Steering:\n",
    "    def __init__(self, steering_type):\n",
    "        self.steering_type = steering_type\n",
    "\n",
    "class Car(Engine, Steering):\n",
    "    def __init__(self, fuel_capacity, steering_type):\n",
    "        Engine.__init__(self, fuel_capacity)\n",
    "        Steering.__init__(self, steering_type)\n",
    "\"\"\"3.Multi-level Inheritance: In multi-level inheritance, a derived class inherits from a base class, which in turn inherits from another base class.\"\"\"\n",
    "class Animal:\n",
    "    def __init__(self, species):\n",
    "        self.species = species\n",
    "\n",
    "class Mammal(Animal):\n",
    "    def __init__(self, species, breed):\n",
    "        super().__init__(species)\n",
    "        self.breed = breed\n",
    "\n",
    "class Dog(Mammal):\n",
    "    def __init__(self, breed, name):\n",
    "        super().__init__(breed, breed)\n",
    "        self.name = name\n",
    "\"\"\"4. Hierarchical Inheritance: In hierarchical inheritance, multiple derived classes inherit from a single base class.\"\"\"\n",
    "class Shape:\n",
    "    def __init__(self, sides):\n",
    "        self.sides = sides\n",
    "\n",
    "class Square(Shape):\n",
    "    def __init__(self, sides, length):\n",
    "        super().__init__(sides)\n",
    "        self.length = length\n",
    "\n",
    "class Rectangle(Shape):\n",
    "    def __init__(self, sides, length, width):\n",
    "        super().__init__(sides)\n",
    "        self.length = length\n",
    "        self.width = width\n"
   ]
  }
 ],
 "metadata": {
  "kernelspec": {
   "display_name": "Python 3 (ipykernel)",
   "language": "python",
   "name": "python3"
  },
  "language_info": {
   "codemirror_mode": {
    "name": "ipython",
    "version": 3
   },
   "file_extension": ".py",
   "mimetype": "text/x-python",
   "name": "python",
   "nbconvert_exporter": "python",
   "pygments_lexer": "ipython3",
   "version": "3.10.8"
  }
 },
 "nbformat": 4,
 "nbformat_minor": 5
}

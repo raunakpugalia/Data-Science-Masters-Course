{
 "cells": [
  {
   "cell_type": "markdown",
   "id": "ff8e184f-1fcb-472d-a617-75497a031b9d",
   "metadata": {},
   "source": [
    "# Q1 Explain with an example each when to use a for loop and a while loop.\n",
    "In Python, both for loops and while loops are used to iterate through sequences, such as lists, tuples, and ranges, or to repeat a block of code a specified number of times. However, the two types of loops have different use cases and strengths.\n",
    "\n",
    "A for loop is used when you know the exact number of iterations you want to perform. For example, if you have a list of items and you want to iterate through each item in the list and perform a specific task with each item, then you can use a for loop. Here's an example:\n",
    "\n",
    "fruits = ['apple', 'banana', 'cherry']\n",
    "for fruit in fruits:\n",
    "    print(\"I like eating \" + fruit)\n",
    "\n",
    "A while loop, on the other hand, is used when you don't know the exact number of iterations beforehand, but you want to continue looping as long as a certain condition is met. For example, if you want to keep asking the user for their name until they provide a valid name, you can use a while loop. Here's an example:\n",
    "\n",
    "name = \"\"\n",
    "while not name.isalpha():\n",
    "    name = input(\"Enter your name: \")\n",
    "    if not name.isalpha():\n",
    "        print(\"Error: Name must only contain letters.\")\n",
    "\n",
    "print(\"Hello, \" + name + \"!\")\n"
   ]
  },
  {
   "cell_type": "code",
   "execution_count": null,
   "id": "70a7184d-01cd-4071-a6b3-6c9eb5c24816",
   "metadata": {},
   "outputs": [],
   "source": [
    "# Q2. Write a python program to print the sum and product of the first 10 natural numbers using for and while loop.\n",
    "\n",
    "#using while loop\n",
    "\n",
    "sum = 0 \n",
    "product = 1\n",
    "starting_point = 1\n",
    "while starting_point <= 10:\n",
    "    sum = sum + starting_point \n",
    "    product = starting_point * product\n",
    "    starting_point += 1\n",
    "print(sum, product)\n",
    "\n",
    "\n",
    "# using for loop\n",
    "\n",
    "sum = 0\n",
    "product = 1\n",
    "for i in range (1, 10)\n",
    "  sum= sum + i\n",
    "  product = i * ( i -1)\n",
    "print(sum, product)"
   ]
  },
  {
   "cell_type": "code",
   "execution_count": 2,
   "id": "ceee2296-6394-4611-abb1-3ea15dd16a94",
   "metadata": {},
   "outputs": [
    {
     "name": "stdin",
     "output_type": "stream",
     "text": [
      "enter the number of units consumed:  310\n"
     ]
    },
    {
     "name": "stdout",
     "output_type": "stream",
     "text": [
      "2250.0\n"
     ]
    }
   ],
   "source": [
    "#Q3 Python program for electricity bill \n",
    "\n",
    "units = int(input(\"enter the number of units consumed: \"))\n",
    "\n",
    "if units <= 100:\n",
    "    print( units * 4.5)\n",
    "elif units <= 200:\n",
    "    print (100 * 4.5 + (units-100) * 6)\n",
    "elif units <=300:\n",
    "    print (100 * 4.5 + 100 * 6 + (units - 200) * 10)\n",
    "else:\n",
    "    print (100 * 4.5 + 100 * 6 + 100 * 10 + (units - 300) * 20)"
   ]
  },
  {
   "cell_type": "code",
   "execution_count": 10,
   "id": "adac9e00-177d-4b8a-88d3-b17ff6acd4f4",
   "metadata": {},
   "outputs": [],
   "source": [
    "#Q4 Divisible by 4 & 5\n",
    "\n",
    "list = []\n",
    "for i in range(101):\n",
    "    list.append(i) \n",
    "divisible = []\n",
    "for i in range(1,101):\n",
    "    if i % 4 == 0 or i % 5 == 0:\n",
    "     divisible.append(i)\n"
   ]
  },
  {
   "cell_type": "code",
   "execution_count": 17,
   "id": "df9106f0-5bb9-45bb-a380-f4dbc99e3406",
   "metadata": {},
   "outputs": [
    {
     "name": "stdout",
     "output_type": "stream",
     "text": [
      "12\n"
     ]
    }
   ],
   "source": [
    "#Q5 Count Vowels\n",
    "\n",
    "count = 0\n",
    "str = \"i want to become a data scientist\"\n",
    "for i in str:\n",
    "    if i == 'a' or i == 'e' or i == 'i' or i == 'o' or i == 'u':\n",
    "     count = count + 1\n",
    "print(count)"
   ]
  },
  {
   "cell_type": "code",
   "execution_count": null,
   "id": "a92f6790-f4e9-4b4a-8a60-badf9278380e",
   "metadata": {},
   "outputs": [],
   "source": []
  }
 ],
 "metadata": {
  "kernelspec": {
   "display_name": "Python 3 (ipykernel)",
   "language": "python",
   "name": "python3"
  },
  "language_info": {
   "codemirror_mode": {
    "name": "ipython",
    "version": 3
   },
   "file_extension": ".py",
   "mimetype": "text/x-python",
   "name": "python",
   "nbconvert_exporter": "python",
   "pygments_lexer": "ipython3",
   "version": "3.10.8"
  }
 },
 "nbformat": 4,
 "nbformat_minor": 5
}

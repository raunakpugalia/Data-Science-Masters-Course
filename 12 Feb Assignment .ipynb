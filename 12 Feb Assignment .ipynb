{
 "cells": [
  {
   "cell_type": "markdown",
   "id": "b3aae4dd-ed82-437f-ba0e-a5781238ea2e",
   "metadata": {},
   "source": [
    "Q1. An exception in Python is an error that occurs during the execution of a program, indicating that something unexpected or erroneous has happened. When an exception occurs, Python raises an exception object, which contains information about the error and its location in the code.\n",
    "\n",
    "The key difference between exceptions and syntax errors is that syntax errors occur during the compilation or interpretation of the code, while exceptions occur during the execution of the program. Syntax errors indicate that there's a problem with the code itself, while exceptions indicate that there's a problem with the program's logic or data. In other words, syntax errors are typically easy to fix, while exceptions require more careful consideration and handling."
   ]
  },
  {
   "cell_type": "code",
   "execution_count": null,
   "id": "09bb51d0-e08a-4ee5-99a8-6ae66149408d",
   "metadata": {},
   "outputs": [],
   "source": [
    "\"\"\"Q2 When an exception is not handled in Python, the program will terminate abruptly, and an error message will be displayed to the user,\n",
    "indicating the cause of the exception. This can lead to an undesirable user experience and can also make it difficult for developers to diagnose and fix the underlying issue.\n",
    "Here's an example to illustrate what happens when an exception is not handled:\"\"\"\n",
    "\n",
    ">>> x = 10 / 0\n",
    "Traceback (most recent call last):\n",
    "  File \"<stdin>\", line 1, in <module>\n",
    "ZeroDivisionError: division by zero\n"
   ]
  },
  {
   "cell_type": "code",
   "execution_count": null,
   "id": "66eaa3cb-9462-4147-83ed-e3eaf07c40af",
   "metadata": {},
   "outputs": [],
   "source": [
    "\"\"\"Q3. In Python, we use try-except statements to catch and handle exceptions. The try block contains the code that we want to execute, and the\n",
    "except block specifies the code that we want to execute if an exception is raised in the try block.\n",
    "Here's an example of how to use try-except statements in Python:\"\"\"\n",
    "try:\n",
    "    x = int(input(\"Please enter a number: \"))\n",
    "    y = 10 / x\n",
    "    print(\"The result is:\", y)\n",
    "except ValueError:\n",
    "    print(\"Error: Invalid input\")\n",
    "except ZeroDivisionError:\n",
    "    print(\"Error: Division by zero\")\n"
   ]
  },
  {
   "cell_type": "code",
   "execution_count": null,
   "id": "50aa6640-ba66-4762-8dbb-0c4c50543da5",
   "metadata": {},
   "outputs": [],
   "source": [
    "\"\"\"Q4. A) a. try and else:\n",
    "In Python, we can use a try block along with an optional else block to handle exceptions in our code. The try block contains the code\n",
    "that we want to execute, and the else block contains the code that we want to execute if no exception is raised in the try block.\n",
    "Here's an example:\"\"\"\n",
    "try:\n",
    "    x = int(input(\"Please enter a number: \"))\n",
    "    y = 10 / x\n",
    "except ValueError:\n",
    "    print(\"Error: Invalid input\")\n",
    "else:\n",
    "    print(\"The result is:\", y)\n",
    "\"\"\"B) finally:\n",
    "In Python, we can use a finally block to specify code that should be executed regardless of whether an exception is raised or not.\n",
    "The finally block is always executed, even if the try or except block contains a return statement or if an unhandled exception occurs.\n",
    "Here's an example:\"\"\"\n",
    "try:\n",
    "    f = open(\"myfile.txt\")\n",
    "    # some code that may raise an exception\n",
    "finally:\n",
    "    f.close()\n",
    "\"\"\"C)Raise:\n",
    "In Python, we can use the raise statement to manually raise an exception in our code. This can be useful when we want to signal an error\n",
    "or an exceptional condition that cannot be handled using built-in exceptions.\n",
    "Here's an example:\"\"\"\n",
    "def divide(x, y):\n",
    "    if y == 0:\n",
    "        raise ValueError(\"Cannot divide by zero\")\n",
    "    return x / y\n",
    "\n",
    "try:\n",
    "    result = divide(10, 0)\n",
    "except ValueError as e:\n",
    "    print(e)\n"
   ]
  },
  {
   "cell_type": "code",
   "execution_count": null,
   "id": "0808e66f-08db-4959-87dc-f9fc0ab476a6",
   "metadata": {},
   "outputs": [],
   "source": [
    "\"\"\"Q5 Custom exceptions in Python are exceptions that are defined by the user. They allow us to create our own exceptions that are specific \n",
    "to our code and the errors that may occur in it. We need custom exceptions in Python when the built-in exceptions are not sufficient for \n",
    "our needs or when we want to provide more information about the error to the user. Here's an example of how to define and use a custom\n",
    "exception in Python:\"\"\"\n",
    "class InvalidInputException(Exception):\n",
    "    def __init__(self, message):\n",
    "        self.message = message\n",
    "\n",
    "def divide(x, y):\n",
    "    if y == 0:\n",
    "        raise InvalidInputException(\"Cannot divide by zero\")\n",
    "    return x / y\n",
    "\n",
    "try:\n",
    "    result = divide(10, 0)\n",
    "except InvalidInputException as e:\n",
    "    print(e.message)"
   ]
  },
  {
   "cell_type": "code",
   "execution_count": 4,
   "id": "f077b348-203e-4c3b-8c17-eaf8995d07bf",
   "metadata": {},
   "outputs": [
    {
     "name": "stdout",
     "output_type": "stream",
     "text": [
      "NegativeNumberException -4 is a negative number\n"
     ]
    }
   ],
   "source": [
    "#Q6\n",
    "class NegativeNumberException(Exception):\n",
    "    def __init__(self, value):\n",
    "        self.value = value\n",
    "    \n",
    "    def __str__(self):\n",
    "       return f\"NegativeNumberException {self.value} is a negative number\"\n",
    "        \n",
    "def square_root(x):\n",
    "        if x < 0:\n",
    "            raise NegativeNumberException(x)\n",
    "        return x ** 0.5\n",
    "    \n",
    "try:\n",
    "    result = square_root(-4)\n",
    "except NegativeNumberException as e:\n",
    "    print(e)\n",
    "    \n",
    "   "
   ]
  },
  {
   "cell_type": "code",
   "execution_count": null,
   "id": "382daec3-5148-4d07-b7dc-8ec6cc1f6483",
   "metadata": {},
   "outputs": [],
   "source": []
  }
 ],
 "metadata": {
  "kernelspec": {
   "display_name": "Python 3 (ipykernel)",
   "language": "python",
   "name": "python3"
  },
  "language_info": {
   "codemirror_mode": {
    "name": "ipython",
    "version": 3
   },
   "file_extension": ".py",
   "mimetype": "text/x-python",
   "name": "python",
   "nbconvert_exporter": "python",
   "pygments_lexer": "ipython3",
   "version": "3.10.8"
  }
 },
 "nbformat": 4,
 "nbformat_minor": 5
}

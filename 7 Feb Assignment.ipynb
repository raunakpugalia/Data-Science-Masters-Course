{
 "cells": [
  {
   "cell_type": "code",
   "execution_count": 11,
   "id": "3d79c3c3-b084-4d48-a24f-54a13381ed89",
   "metadata": {},
   "outputs": [
    {
     "name": "stdin",
     "output_type": "stream",
     "text": [
      "Enter Your Password:  hello\n"
     ]
    },
    {
     "name": "stdout",
     "output_type": "stream",
     "text": [
      "invalid password\n"
     ]
    }
   ],
   "source": [
    "#Q1\n",
    "import re \n",
    "\n",
    "def check_password(password):\n",
    "    \n",
    "    if len(password) < 10:\n",
    "        return \"invalid password\"\n",
    "    \n",
    "    if not re.search(r'[A-Z].*[A-Z]', password) or not re.search(r'[a-z].*[a-z]' , password):\n",
    "        return \"invalid password\"\n",
    "    \n",
    "    if not re.search(r'\\d' , password) or not re.search(r'[!@#$%^&*()_+]' , password)  or not re.search(r'[!@#$%^&*()_+]' , password , re.MULTILINE)[2:]:\n",
    "        return \"invalid password\"\n",
    "    #if all checks then return valid password\n",
    "    return \"valid password\"\n",
    "mypass = input(\"Enter Your Password: \")\n",
    "print(check_password(mypass))\n"
   ]
  },
  {
   "cell_type": "code",
   "execution_count": 34,
   "id": "86b3cba3-dbc7-4bf2-bfb7-fcaa7036a819",
   "metadata": {},
   "outputs": [
    {
     "name": "stdout",
     "output_type": "stream",
     "text": [
      "True\n"
     ]
    }
   ],
   "source": [
    "#Q2 solve using lambda, filter, map and list comprehension\n",
    "\"i check if the string starts with a particular letter\"\n",
    "string = \"hello bacho\"\n",
    "fitered_string =list(filter(lambda x: x[0] == \"h\" , string.split()))\n",
    "if fitered_string:\n",
    "        print(True)\n",
    "else:\n",
    "        print(False)\n",
    "        "
   ]
  },
  {
   "cell_type": "code",
   "execution_count": 33,
   "id": "3565217c-93d8-496d-b9e0-c56ab86111b5",
   "metadata": {},
   "outputs": [
    {
     "name": "stdout",
     "output_type": "stream",
     "text": [
      "True\n"
     ]
    }
   ],
   "source": [
    "\"\"\"ii check if  the string is numeric\"\"\"\n",
    "string = \"14555\"\n",
    "filtered = list(map(lambda x: x.isnumeric(), string))\n",
    "if any(filtered):\n",
    "    print(True)\n",
    "else:\n",
    "    print(False)"
   ]
  },
  {
   "cell_type": "code",
   "execution_count": 35,
   "id": "776e5fdf-29ba-4b61-8f18-3b24012f39c9",
   "metadata": {},
   "outputs": [
    {
     "name": "stdout",
     "output_type": "stream",
     "text": [
      "[('grapes', 1000), ('mango', 99), ('orange', 80)]\n"
     ]
    }
   ],
   "source": [
    "\"\"\"iii sort as per quantity\"\"\"\n",
    "fruits = [(\"mango\",99),(\"orange\",80), (\"grapes\", 1000)]\n",
    "sorted_fruits = sorted(fruits, key= lambda x: x[1], reverse= True)\n",
    "print(sorted_fruits)"
   ]
  },
  {
   "cell_type": "code",
   "execution_count": 37,
   "id": "73c5bc62-0c07-4d0e-b882-d2eb54c555f5",
   "metadata": {},
   "outputs": [
    {
     "name": "stdout",
     "output_type": "stream",
     "text": [
      "[1, 4, 9, 16, 25, 36, 49, 64, 81, 100]\n"
     ]
    }
   ],
   "source": [
    "\"\"\"iv find the squares of number from 1 to 10\"\"\"\n",
    "squared=list(map(lambda x: x**2, range(1,11)))\n",
    "print(squared)"
   ]
  },
  {
   "cell_type": "code",
   "execution_count": 48,
   "id": "f542cef4-8f01-4561-b958-0d2b070d4fa6",
   "metadata": {},
   "outputs": [
    {
     "name": "stdout",
     "output_type": "stream",
     "text": [
      "[1.0, 1.2599210498948732, 1.4422495703074083, 1.5874010519681994, 1.7099759466766968, 1.8171205928321397, 1.912931182772389, 2.0, 2.080083823051904, 2.154434690031884]\n"
     ]
    }
   ],
   "source": [
    "\"\"\"v check the cube root of numbers from 1 to 10\"\"\"\n",
    "import math\n",
    "rooted = list(map(lambda i: math.pow(i,1/3), range(1,11)))\n",
    "print(rooted)"
   ]
  },
  {
   "cell_type": "code",
   "execution_count": 61,
   "id": "11a78ff5-329e-40ae-a70e-0c9594bcf12c",
   "metadata": {},
   "outputs": [
    {
     "name": "stdin",
     "output_type": "stream",
     "text": [
      "enter number to check:  47\n"
     ]
    },
    {
     "name": "stdout",
     "output_type": "stream",
     "text": [
      "False\n"
     ]
    }
   ],
   "source": [
    "\"\"\"vi check if the given number is even\"\"\"\n",
    "from functools import reduce\n",
    "def is_even(number):\n",
    "    if number % 2 == 0:\n",
    "        print(True)\n",
    "    else:\n",
    "        print(False)\n",
    "\n",
    "number = int(input(\"enter number to check: \"))\n",
    "is_even(number)"
   ]
  },
  {
   "cell_type": "code",
   "execution_count": 65,
   "id": "b68c212d-5759-4bda-aff3-0117ef5bb764",
   "metadata": {},
   "outputs": [
    {
     "name": "stdout",
     "output_type": "stream",
     "text": [
      "1\n",
      "3\n",
      "5\n",
      "7\n",
      "9\n"
     ]
    }
   ],
   "source": [
    "\"\"\"vii filter odd numbers from the list\"\"\"\n",
    "list1 = [1,2,3,4,5,6,7,8,9,10]\n",
    "filtered = filter(lambda x: x % 2 != 0, list1)\n",
    "for s in filtered:\n",
    "    print(s)"
   ]
  },
  {
   "cell_type": "code",
   "execution_count": 70,
   "id": "ccfc1c2e-87ee-4f5d-a7eb-5c137fac0d20",
   "metadata": {},
   "outputs": [
    {
     "name": "stdout",
     "output_type": "stream",
     "text": [
      "[1, 2, 3, 4, 5, 6]\n",
      "[-1, -2, -3, -4, -5]\n"
     ]
    }
   ],
   "source": [
    "\"\"\"viii filter positive numbers\"\"\"\n",
    "list2 = [1,2,3,4,5,6,-1,-2,-3,-4,-5,0]\n",
    "\n",
    "positive= [i for i in list2 if i > 0 ]\n",
    "negative = [i for i in list2 if i < 0]\n",
    "print(positive)\n",
    "print(negative)"
   ]
  },
  {
   "cell_type": "code",
   "execution_count": null,
   "id": "6b3e9e32-150a-4483-9a15-90e585b60d04",
   "metadata": {},
   "outputs": [],
   "source": []
  }
 ],
 "metadata": {
  "kernelspec": {
   "display_name": "Python 3 (ipykernel)",
   "language": "python",
   "name": "python3"
  },
  "language_info": {
   "codemirror_mode": {
    "name": "ipython",
    "version": 3
   },
   "file_extension": ".py",
   "mimetype": "text/x-python",
   "name": "python",
   "nbconvert_exporter": "python",
   "pygments_lexer": "ipython3",
   "version": "3.10.8"
  }
 },
 "nbformat": 4,
 "nbformat_minor": 5
}

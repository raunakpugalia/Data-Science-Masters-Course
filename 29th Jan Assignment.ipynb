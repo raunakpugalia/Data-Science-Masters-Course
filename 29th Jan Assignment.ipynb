{
 "cells": [
  {
   "cell_type": "code",
   "execution_count": null,
   "id": "946ec3c2-d35f-4037-b90b-029d4824856e",
   "metadata": {},
   "outputs": [],
   "source": [
    "\"\"\" \n",
    "1. Guido van Rossum\n",
    "2. Python is a multi-paradigm programming language. Object-oriented programming and structured programming are fully supported\n",
    "3. Yes, Python is a case-sensitive language\n",
    "4. .py\n",
    "5. Python is an interpreted language\n",
    "6. A Function Body\n",
    "7. Hash character(#)\n",
    "8. python_version()\n",
    "9. It uses a construct called \"lambda\"\n",
    "10. preferred installer program\n",
    "11. print( ) function. type( ) function. input( ) function.\n",
    "12. 79 characters.\n",
    "13. simple, clean, easy syntax and fast to write\n",
    "14. involves a private heap containing all Python objects and data structures.\n",
    "15. ' Right-clicking This PC and going to Properties.\n",
    "      Clicking on the Advanced system settings in the menu on the left.\n",
    "      Clicking on the Environment Variables button o​n the bottom right.\n",
    "      In the System variables section, selecting the Path variable and clicking on Edit. The next screen will show all the directories that are currently a part of the PATH variable.\n",
    "      Clicking on New and entering Python’s install directory.'\n",
    "16. YESSS, indentation is very important in python.\"\"\"\n",
    "      "
   ]
  }
 ],
 "metadata": {
  "kernelspec": {
   "display_name": "Python 3 (ipykernel)",
   "language": "python",
   "name": "python3"
  },
  "language_info": {
   "codemirror_mode": {
    "name": "ipython",
    "version": 3
   },
   "file_extension": ".py",
   "mimetype": "text/x-python",
   "name": "python",
   "nbconvert_exporter": "python",
   "pygments_lexer": "ipython3",
   "version": "3.10.8"
  }
 },
 "nbformat": 4,
 "nbformat_minor": 5
}
